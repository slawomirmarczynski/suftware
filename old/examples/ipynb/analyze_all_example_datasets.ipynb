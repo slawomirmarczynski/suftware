{
 "cells": [
  {
   "cell_type": "code",
   "execution_count": 1,
   "metadata": {
    "collapsed": true
   },
   "outputs": [],
   "source": [
    "# Standard modules\n",
    "import numpy as np\n",
    "import scipy as sp\n",
    "import matplotlib as mpl\n",
    "import matplotlib.pyplot as plt\n",
    "\n",
    "# Other modules\n",
    "import sys\n",
    "import time\n",
    "import glob\n",
    "import os\n",
    "\n",
    "# Import suftware\n",
    "sys.path.append('../../')\n",
    "import suftware as sw"
   ]
  },
  {
   "cell_type": "code",
   "execution_count": 3,
   "metadata": {},
   "outputs": [
    {
     "name": "stdout",
     "output_type": "stream",
     "text": [
      " 0: 0.401 sec for who.life_expectancy_male\n",
      " 1: 0.228 sec for who.family_planning\n",
      " 2: 0.250 sec for who.hiv_infections\n",
      " 3: 0.173 sec for who.child_overweight\n",
      " 4: 0.217 sec for who.health_professionals\n",
      " 5: 0.201 sec for old_faithful_eruption_times\n",
      " 6: 0.177 sec for buffalo_snowfall\n",
      " 7: 0.205 sec for who.dpt_immunization\n",
      " 8: 0.150 sec for who.clean_fuels\n",
      " 9: 0.198 sec for who.wash_mortality\n",
      "10: 0.230 sec for who.sanitation\n",
      "11: 0.303 sec for who.life_expectancy_female\n",
      "12: 0.220 sec for who.alcohol_consumption\n",
      "13: 0.180 sec for who.hepatitis_vaccine\n",
      "14: 0.229 sec for who.child_stunting\n",
      "15: 0.194 sec for treatment_length\n",
      "16: 0.202 sec for who.suicide_moratlity\n",
      "17: 0.190 sec for who.child_wasting\n",
      "18: 0.286 sec for who.life_expectancy\n",
      "19: 0.246 sec for who.maternal_mortality\n",
      "20: 0.152 sec for who.score_avg\n",
      "21: 0.214 sec for who.population\n",
      "22: 0.305 sec for who.life_expectancy_healthy\n",
      "23: 0.191 sec for who.govt_expendature\n",
      "24: 0.257 sec for who.smoking_female\n",
      "25: 0.378 sec for who.early_disease_deaths\n",
      "26: 0.515 sec for who.conflict_deaths\n",
      "27: 0.290 sec for who.poisoning_mortality\n",
      "28: 0.192 sec for old_faithful_waiting_times\n",
      "29: 0.533 sec for who.tb_indicence\n",
      "30: 0.422 sec for who.air_pollution_mortality\n",
      "31: 0.435 sec for who.attended_births\n",
      "32: 0.185 sec for who.health_and_research\n",
      "33: 0.465 sec for who.ntd_interventions\n",
      "34: 0.157 sec for who.adolescent_births\n",
      "35: 0.196 sec for who.smoking_male\n",
      "36: 0.197 sec for who.neonatal_moratlity\n",
      "37: 0.204 sec for who.cause_of_death_known\n",
      "38: 0.163 sec for who.homicide\n",
      "39: 0.235 sec for who.particulate_matter\n",
      "40: 0.275 sec for who.under_five_mortality\n",
      "41: 0.206 sec for who.clean_water\n",
      "42: 0.218 sec for who.natural_disasters\n",
      "43: 0.220 sec for who.traffic_mortality\n",
      "44: 0.309 sec for who.malaria_incidence\n",
      "Finished. Each computation took 0.253 +/- 0.095 sec.\n"
     ]
    }
   ],
   "source": [
    "# Remove previous who plots\n",
    "who_files = glob.glob('../plots/*')\n",
    "for file in who_files:\n",
    "    os.remove(file)\n",
    "    \n",
    "# Get number of datasets\n",
    "datasets = sw.example_density_data__datasets\n",
    "num_datasets = len(datasets)    \n",
    "    \n",
    "# Plot each dataset\n",
    "computation_times = np.zeros(num_datasets)\n",
    "for n, dataset_name in enumerate(datasets):\n",
    "\n",
    "    # Use example data\n",
    "    data, details = sw.example_density_data(dataset_name)\n",
    "\n",
    "    # Perform density estimation\n",
    "    start = time.time()\n",
    "    density = sw.Density(data)\n",
    "    stop = time.time()\n",
    "    print('%2d: %.3f sec for %s'%(n, stop-start, dataset_name))\n",
    "    computation_times[n] = stop-start\n",
    "\n",
    "    # Plot results #\n",
    "    title = details.get('description','')\n",
    "    xlabel = details.get('units','')\n",
    "    save_as = '../plots/%s.pdf'%dataset_name\n",
    "    density.plot(title=title, \n",
    "                 xlabel=xlabel, \n",
    "                 save_as=save_as,\n",
    "                 show_now=False)\n",
    "    \n",
    "    # Close figure\n",
    "    plt.close('all')\n",
    "    \n",
    "print('Finished. Each computation took %.3f +/- %0.3f sec.'%\\\n",
    "          (computation_times.mean(), computation_times.std()))"
   ]
  }
 ],
 "metadata": {
  "kernelspec": {
   "display_name": "anaconda_kernel",
   "language": "python",
   "name": "anaconda_kernel"
  },
  "language_info": {
   "codemirror_mode": {
    "name": "ipython",
    "version": 3
   },
   "file_extension": ".py",
   "mimetype": "text/x-python",
   "name": "python",
   "nbconvert_exporter": "python",
   "pygments_lexer": "ipython3",
   "version": "3.6.3"
  }
 },
 "nbformat": 4,
 "nbformat_minor": 2
}
